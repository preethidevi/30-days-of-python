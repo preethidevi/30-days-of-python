{
  "nbformat": 4,
  "nbformat_minor": 0,
  "metadata": {
    "colab": {
      "name": "day3",
      "provenance": []
    },
    "kernelspec": {
      "name": "python3",
      "display_name": "Python 3"
    }
  },
  "cells": [
    {
      "cell_type": "code",
      "metadata": {
        "id": "2VKdVIXrC8Er"
      },
      "source": [
        ""
      ],
      "execution_count": null,
      "outputs": []
    },
    {
      "cell_type": "markdown",
      "metadata": {
        "id": "WMyQ6cO9DDWZ"
      },
      "source": [
        " 1 Python script to merge two Python dictionaries"
      ]
    },
    {
      "cell_type": "code",
      "metadata": {
        "colab": {
          "base_uri": "https://localhost:8080/"
        },
        "id": "esgmzwkIDFL2",
        "outputId": "8d086e87-d521-4dfd-ac55-9e67b7d7df04"
      },
      "source": [
        "dict1={}\n",
        "n = int(input(\"enter no of elements for dictionary 1 : \"))\n",
        "for i in range(0,n):\n",
        "      key=input(\"key \" + str(i+1) + \": \")\n",
        "      value=input(\"value \" + str(i+1) + \": \")\n",
        "      dict1[key]=value\n",
        "dict2={}\n",
        "n = int(input(\"enter no of elements for dictionary 2 : \"))\n",
        "for i in range(0,n):\n",
        "      key=input(\"key\" + str(i+1) + \": \")\n",
        "      value=input(\"value\" + str(i+1) + \": \")\n",
        "      dict2[key]=value\n",
        "print(\"Dictionary 1 : \",dict1)\n",
        "print(\"Dictionary 2 : \",dict2)\n",
        "new_dict = dict1.copy()\n",
        "new_dict.update(dict2)\n",
        "print(\"Merged Dictionary: \",new_dict)"
      ],
      "execution_count": 1,
      "outputs": [
        {
          "output_type": "stream",
          "text": [
            "enter no of elements for dictionary 1 : 3\n",
            "key 1: 4\n",
            "value 1: 3\n",
            "key 2: 5\n",
            "value 2: 7\n",
            "key 3: 2\n",
            "value 3: 6\n",
            "enter no of elements for dictionary 2 : 2\n",
            "key1: 3\n",
            "value1: 4\n",
            "key2: 2\n",
            "value2: 6\n",
            "Dictionary 1 :  {'4': '3', '5': '7', '2': '6'}\n",
            "Dictionary 2 :  {'3': '4', '2': '6'}\n",
            "Merged Dictionary:  {'4': '3', '5': '7', '2': '6', '3': '4'}\n"
          ],
          "name": "stdout"
        }
      ]
    },
    {
      "cell_type": "markdown",
      "metadata": {
        "id": "0Vr5TqR0Dqkk"
      },
      "source": [
        "2) Python program to remove a key from a dictionary"
      ]
    },
    {
      "cell_type": "code",
      "metadata": {
        "id": "ytd9MPwCDraG"
      },
      "source": [
        "fruits = {\"apple\" : \"red\", \"banana\" : \"yellow\", \"grapes\" : \"blue\"}\n",
        "del fruits[\"banana\"]"
      ],
      "execution_count": null,
      "outputs": []
    },
    {
      "cell_type": "code",
      "metadata": {
        "colab": {
          "base_uri": "https://localhost:8080/"
        },
        "id": "8tdAbd2JDwTA",
        "outputId": "94268625-1fad-4ed8-f01e-25f47da13e60"
      },
      "source": [
        "dict1={}\n",
        "n = int(input(\"enter no of elements for dictionary : \"))\n",
        "for i in range(0,n):\n",
        "      key=input(\"key \" + str(i+1) + \": \")\n",
        "      value=input(\"value \" + str(i+1) + \": \")\n",
        "      dict1[key]=value\n",
        "print(\"Dictionary before deletion : \",dict1)\n",
        "element = input(\"enter key which you want to delete : \")\n",
        "del dict1[element]\n",
        "print(\"Dictionary after deletion : \",dict1)"
      ],
      "execution_count": 2,
      "outputs": [
        {
          "output_type": "stream",
          "text": [
            "enter no of elements for dictionary : 2\n",
            "key 1: flower\n",
            "value 1: rose\n",
            "key 2: fruit\n",
            "value 2: grapes\n",
            "Dictionary before deletion :  {'flower': 'rose', 'fruit': 'grapes'}\n",
            "enter key which you want to delete : flower\n",
            "Dictionary after deletion :  {'fruit': 'grapes'}\n"
          ],
          "name": "stdout"
        }
      ]
    },
    {
      "cell_type": "markdown",
      "metadata": {
        "id": "o2SPZvamEh_V"
      },
      "source": [
        "3) Python program to map two lists into a dictionary\n"
      ]
    },
    {
      "cell_type": "code",
      "metadata": {
        "colab": {
          "base_uri": "https://localhost:8080/"
        },
        "id": "M85BONnpEjwo",
        "outputId": "280ee572-751c-408b-90c6-28bc81740317"
      },
      "source": [
        "keys = []\n",
        "values = []\n",
        "n = int(input(\"Enter no of elements : \"))\n",
        "for i in range(0,n):\n",
        "  element = input(\"key \" + str(i+1) + \": \")\n",
        "  keys.append(element)\n",
        "for i in range(0,n):5\n",
        "  element = input(\"value \" + str(i+1) + \": \")\n",
        "  values.append(element)\n",
        "dict1 = dict(zip(keys,values))\n",
        "print(dict1)"
      ],
      "execution_count": 3,
      "outputs": [
        {
          "output_type": "stream",
          "text": [
            "Enter no of elements : 3\n",
            "key 1: roll:no\n",
            "key 2: name\n",
            "key 3: marks\n",
            "value 1: 73\n",
            "value 2: peety\n",
            "value 3: 93\n",
            "{'roll:no': '73', 'name': 'peety', 'marks': '93'}\n"
          ],
          "name": "stdout"
        }
      ]
    },
    {
      "cell_type": "markdown",
      "metadata": {
        "id": "nG6xQIaRFC1x"
      },
      "source": [
        "4) Write a Python program to find the length of a set"
      ]
    },
    {
      "cell_type": "code",
      "metadata": {
        "colab": {
          "base_uri": "https://localhost:8080/"
        },
        "id": "u9Uc0pV4FEX8",
        "outputId": "96491f7f-7390-4fa8-d0ed-5755ae1ed743"
      },
      "source": [
        "lt = []\n",
        "n = int(input(\"enter number of elements : \"))\n",
        "print(\"enter set elements : \")\n",
        "for i in range(0,n):\n",
        "  ele = int(input())\n",
        "  lt.append(ele)\n",
        "st = set(lt)\n",
        "print(\"Set :\",st)\n",
        "print(\"Length of the set: \",len(st))"
      ],
      "execution_count": 4,
      "outputs": [
        {
          "output_type": "stream",
          "text": [
            "enter number of elements : 4\n",
            "enter set elements : \n",
            "2\n",
            "3\n",
            "4\n",
            "5\n",
            "Set : {2, 3, 4, 5}\n",
            "Length of the set:  4\n"
          ],
          "name": "stdout"
        }
      ]
    },
    {
      "cell_type": "markdown",
      "metadata": {
        "id": "XcGUblBnFX0D"
      },
      "source": [
        "5) Write a Python program to remove the intersection of a 2nd set from the 1st set"
      ]
    },
    {
      "cell_type": "code",
      "metadata": {
        "colab": {
          "base_uri": "https://localhost:8080/"
        },
        "id": "lXriEu6JFZFn",
        "outputId": "714a6f51-a088-429f-f242-971e34147f02"
      },
      "source": [
        "set1 = input(\"Enter elements of set 1 : \")\n",
        "set2 = input(\"Enter elements of set 2 : \")\n",
        "s1=set(set1)\n",
        "s2=set(set2)\n",
        "inter = s1 & s2\n",
        "print(\"Intersection elements in set 1 & set 2: \",inter)\n",
        "print(\"Set 1 after removing intersection from set 2 : \")\n",
        "print(set(s1-s2))"
      ],
      "execution_count": 5,
      "outputs": [
        {
          "output_type": "stream",
          "text": [
            "Enter elements of set 1 : 246865\n",
            "Enter elements of set 2 : 346109\n",
            "Intersection elements in set 1 & set 2:  {'4', '6'}\n",
            "Set 1 after removing intersection from set 2 : \n",
            "{'5', '8', '2'}\n"
          ],
          "name": "stdout"
        }
      ]
    }
  ]
}