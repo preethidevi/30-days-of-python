{
  "nbformat": 4,
  "nbformat_minor": 0,
  "metadata": {
    "colab": {
      "name": "Day12",
      "provenance": []
    },
    "kernelspec": {
      "name": "python3",
      "display_name": "Python 3"
    }
  },
  "cells": [
    {
      "cell_type": "markdown",
      "metadata": {
        "id": "_T6QIbhN-u9Z"
      },
      "source": [
        "1.Create a JSON of all object types and import the JSON into a SQL Database Note: The JSON file should have valus of all Datatypes"
      ]
    },
    {
      "cell_type": "code",
      "metadata": {
        "id": "QFhEhSu--zyt"
      },
      "source": [
        "import sqlite3\n",
        "import json"
      ],
      "execution_count": 1,
      "outputs": []
    },
    {
      "cell_type": "code",
      "metadata": {
        "colab": {
          "base_uri": "https://localhost:8080/"
        },
        "id": "Vp1FkfDG-2iO",
        "outputId": "47c5a669-644f-4583-a0a2-56aca4f1f06c"
      },
      "source": [
        "con = sqlite3.connect(\"test.db\")\n",
        "print(\"Database Opened\")\n"
      ],
      "execution_count": 2,
      "outputs": [
        {
          "output_type": "stream",
          "text": [
            "Database Opened\n"
          ],
          "name": "stdout"
        }
      ]
    },
    {
      "cell_type": "code",
      "metadata": {
        "colab": {
          "base_uri": "https://localhost:8080/"
        },
        "id": "MnMNSzPq-7vj",
        "outputId": "188ac24d-8b5d-4a18-8f6a-c77797e0452d"
      },
      "source": [
        "cursor = con.cursor()\n",
        "try:\n",
        "    cursor.execute(\"CREATE TABLE MINE\"\n",
        "                   \"(\"\n",
        "                   + \"dictinary BLOB,\"\n",
        "                   + \"list BLOB,\"\n",
        "                   + \"tuple BLOB,\"\n",
        "                   + \"string varchar(50),\"\n",
        "                   + \"Integer INTEGER,\"\n",
        "                   + \"flo FLOAT,\"\n",
        "                   + \"Bool BOOLEAN,\"\n",
        "                   + \"None BLOB\"\n",
        "                     \");\")\n",
        "except Exception as e:\n",
        "    print(\"Error :\", e)\n",
        "else:\n",
        "    print(\"Table created\")"
      ],
      "execution_count": 3,
      "outputs": [
        {
          "output_type": "stream",
          "text": [
            "Table created\n"
          ],
          "name": "stdout"
        }
      ]
    },
    {
      "cell_type": "code",
      "metadata": {
        "id": "1AgGpHSe--fK"
      },
      "source": [
        "datafile = open(\"example.json\")\n",
        "dataset = json.load(datafile)\n",
        "dataframe = []\n",
        "for row in dataset:\n",
        "    data = (str(row[0]), str(row[1]), str(row[2]), str(row[3]), int(row[4]),\n",
        "            float(row[5]), bool(row[6]), row[7])\n",
        "    dataframe.append(data)"
      ],
      "execution_count": 4,
      "outputs": []
    },
    {
      "cell_type": "code",
      "metadata": {
        "colab": {
          "base_uri": "https://localhost:8080/"
        },
        "id": "buq1Gv3B_CTp",
        "outputId": "2c431872-972e-4b26-a6af-7134ddc2fd98"
      },
      "source": [
        "try:\n",
        "    cursor.executemany(\"INSERT INTO MINE VALUES (?,?,?,?,?,?,?,?)\", dataframe)\n",
        "except Exception as e:\n",
        "    print(\"Error : \", e)\n",
        "else:\n",
        "    con.commit()\n",
        "    print(\"Data inserted\")"
      ],
      "execution_count": 5,
      "outputs": [
        {
          "output_type": "stream",
          "text": [
            "Data inserted\n"
          ],
          "name": "stdout"
        }
      ]
    },
    {
      "cell_type": "code",
      "metadata": {
        "colab": {
          "base_uri": "https://localhost:8080/"
        },
        "id": "aaH94TMY_F5U",
        "outputId": "7c54716c-265d-471d-e345-5e0bebd88145"
      },
      "source": [
        "try:\n",
        "    cursor.execute(\"SELECT * from MINE\")\n",
        "except Exception as e:\n",
        "    print(\"Error : \", e)\n",
        "else:\n",
        "    for row in cursor.fetchall():\n",
        "        print(row)"
      ],
      "execution_count": 6,
      "outputs": [
        {
          "output_type": "stream",
          "text": [
            "(\"{'name': 'preethi', 'age': 20, 'city': 'chennai'}\", '[1, 2, 3]', '[3, 2, 1]', 'Bangalore', 35, 35.5, 1, None)\n"
          ],
          "name": "stdout"
        }
      ]
    },
    {
      "cell_type": "code",
      "metadata": {
        "id": "USmnt7bh_Jir"
      },
      "source": [
        "con.close()"
      ],
      "execution_count": 7,
      "outputs": []
    }
  ]
}