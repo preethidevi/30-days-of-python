{
  "nbformat": 4,
  "nbformat_minor": 0,
  "metadata": {
    "colab": {
      "name": "Untitled0.ipynb",
      "provenance": []
    },
    "kernelspec": {
      "name": "python3",
      "display_name": "Python 3"
    }
  },
  "cells": [
    {
      "cell_type": "code",
      "metadata": {
        "colab": {
          "base_uri": "https://localhost:8080/"
        },
        "id": "Uxfl1POq_FZF",
        "outputId": "dc7fdaa1-dd46-4558-a200-8f8f5408c70a"
      },
      "source": [
        "list1 = []\n",
        "n = int(input(\"Enter number of elements : \"));\n",
        "print(\"Enter list elements : \");\n",
        "for i in range (0,n):\n",
        "  ele = int(input())\n",
        "  list1.append(ele)\n",
        "print(list1)\n"
      ],
      "execution_count": 1,
      "outputs": [
        {
          "output_type": "stream",
          "text": [
            "Enter number of elements : 5\n",
            "Enter list elements : \n",
            "2\n",
            "3\n",
            "4\n",
            "5\n",
            "6\n",
            "[2, 3, 4, 5, 6]\n"
          ],
          "name": "stdout"
        }
      ]
    },
    {
      "cell_type": "code",
      "metadata": {
        "colab": {
          "base_uri": "https://localhost:8080/"
        },
        "id": "dkg4Eg4s_XkN",
        "outputId": "54e43e11-3af3-439f-e048-53eeeab4725d"
      },
      "source": [
        "print(\"Enter element to add : \");\n",
        "ele = int(input())\n",
        "list1.append(ele)\n",
        "print(\"List after adding element : \",list1)"
      ],
      "execution_count": 2,
      "outputs": [
        {
          "output_type": "stream",
          "text": [
            "Enter element to add : \n",
            "7\n",
            "List after adding element :  [2, 3, 4, 5, 6, 7]\n"
          ],
          "name": "stdout"
        }
      ]
    },
    {
      "cell_type": "code",
      "metadata": {
        "colab": {
          "base_uri": "https://localhost:8080/"
        },
        "id": "QjNHu5d0_kTX",
        "outputId": "2b3ea000-3206-4597-e4b8-68c6dc98feeb"
      },
      "source": [
        "ele = int(input(\"Enter element to insert : \"))\n",
        "pos = int(input(\"Enter the position you want to add the element : \"))\n",
        "list1.insert(pos,ele)\n",
        "print(\"List after adding element : \",list1)"
      ],
      "execution_count": 3,
      "outputs": [
        {
          "output_type": "stream",
          "text": [
            "Enter element to insert : 1\n",
            "Enter the position you want to add the element : 0\n",
            "List after adding element :  [1, 2, 3, 4, 5, 6, 7]\n"
          ],
          "name": "stdout"
        }
      ]
    },
    {
      "cell_type": "code",
      "metadata": {
        "colab": {
          "base_uri": "https://localhost:8080/"
        },
        "id": "bq546N9e_50q",
        "outputId": "e038564a-ed10-45bb-bb94-897d76f244c9"
      },
      "source": [
        "i = int(input(\"Enter the position of the element to delete : \"))\n",
        "del list1[i]\n",
        "print(\"List after deletion: \",list1)\n"
      ],
      "execution_count": 4,
      "outputs": [
        {
          "output_type": "stream",
          "text": [
            "Enter the position of the element to delete : 2\n",
            "List after deletion:  [1, 2, 4, 5, 6, 7]\n"
          ],
          "name": "stdout"
        }
      ]
    },
    {
      "cell_type": "code",
      "metadata": {
        "colab": {
          "base_uri": "https://localhost:8080/"
        },
        "id": "VXSgZP7JAFU2",
        "outputId": "10ae2c62-f8ef-4b70-86d6-3c207d115304"
      },
      "source": [
        "largest = max(list1)\n",
        "print(\"The largest element is : \",largest)"
      ],
      "execution_count": 5,
      "outputs": [
        {
          "output_type": "stream",
          "text": [
            "The largest element is :  7\n"
          ],
          "name": "stdout"
        }
      ]
    },
    {
      "cell_type": "code",
      "metadata": {
        "colab": {
          "base_uri": "https://localhost:8080/"
        },
        "id": "pluqxbhyAPS1",
        "outputId": "5f2550c2-a28a-4052-bfd1-6b1eb796aad3"
      },
      "source": [
        "smallest = min(list1)\n",
        "print(\"The smallest element is : \",smallest)"
      ],
      "execution_count": 6,
      "outputs": [
        {
          "output_type": "stream",
          "text": [
            "The smallest element is :  1\n"
          ],
          "name": "stdout"
        }
      ]
    },
    {
      "cell_type": "code",
      "metadata": {
        "id": "KHFfghR_AY22"
      },
      "source": [
        ""
      ],
      "execution_count": null,
      "outputs": []
    },
    {
      "cell_type": "markdown",
      "metadata": {
        "id": "zBH-WtxaAhhK"
      },
      "source": [
        "2) Create a tuple and print the reverse of the created tuple\n"
      ]
    },
    {
      "cell_type": "code",
      "metadata": {
        "colab": {
          "base_uri": "https://localhost:8080/"
        },
        "id": "L2UXWoboAlt1",
        "outputId": "3c655abe-a012-4e5c-e9a4-e5301fa13272"
      },
      "source": [
        "tup = []\n",
        "n = int(input(\"Enter number of elements : \"))\n",
        "print(\"Enter tuple elements : \")\n",
        "for i in range (0,n):\n",
        "  ele = int(input())\n",
        "  tup.append(ele)\n",
        "print(tuple())"
      ],
      "execution_count": 9,
      "outputs": [
        {
          "output_type": "stream",
          "text": [
            "Enter number of elements : 5\n",
            "Enter tuple elements : \n",
            "2\n",
            "3\n",
            "4\n",
            "6\n",
            "1\n",
            "()\n"
          ],
          "name": "stdout"
        }
      ]
    },
    {
      "cell_type": "code",
      "metadata": {
        "colab": {
          "base_uri": "https://localhost:8080/"
        },
        "id": "VZ_YNQ6jA5Am",
        "outputId": "de7f2c72-79d3-440d-e424-7965d868d09b"
      },
      "source": [
        "tup[::-1]"
      ],
      "execution_count": 10,
      "outputs": [
        {
          "output_type": "execute_result",
          "data": {
            "text/plain": [
              "[1, 6, 4, 3, 2]"
            ]
          },
          "metadata": {
            "tags": []
          },
          "execution_count": 10
        }
      ]
    },
    {
      "cell_type": "code",
      "metadata": {
        "colab": {
          "base_uri": "https://localhost:8080/"
        },
        "id": "8Vkvr9auBiOS",
        "outputId": "eab292d6-cad8-418c-d91f-527fd73e6cc7"
      },
      "source": [
        "tup2 = reversed(tup)\n",
        "print(tuple(tup2))"
      ],
      "execution_count": 11,
      "outputs": [
        {
          "output_type": "stream",
          "text": [
            "(1, 6, 4, 3, 2)\n"
          ],
          "name": "stdout"
        }
      ]
    },
    {
      "cell_type": "code",
      "metadata": {
        "id": "gxr4pOayBo7K"
      },
      "source": [
        ""
      ],
      "execution_count": null,
      "outputs": []
    },
    {
      "cell_type": "markdown",
      "metadata": {
        "id": "IBe2ybLtBsmp"
      },
      "source": [
        " Create a tuple and convert tuple into list"
      ]
    },
    {
      "cell_type": "code",
      "metadata": {
        "colab": {
          "base_uri": "https://localhost:8080/"
        },
        "id": "ca7J3-8ZBto_",
        "outputId": "fa15242b-3ddb-42e5-93e5-e670f3a0f05a"
      },
      "source": [
        "tup = (\"priya\", \"maya\", 1, 2)\n",
        "print(list(tup))"
      ],
      "execution_count": 12,
      "outputs": [
        {
          "output_type": "stream",
          "text": [
            "['priya', 'maya', 1, 2]\n"
          ],
          "name": "stdout"
        }
      ]
    }
  ]
}