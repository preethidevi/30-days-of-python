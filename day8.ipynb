{
  "nbformat": 4,
  "nbformat_minor": 0,
  "metadata": {
    "colab": {
      "name": "day8",
      "provenance": []
    },
    "kernelspec": {
      "name": "python3",
      "display_name": "Python 3"
    }
  },
  "cells": [
    {
      "cell_type": "markdown",
      "metadata": {
        "id": "7rd8wmMpXjTy"
      },
      "source": [
        "1.List down all the error types and check all the errors using a python program for all errors"
      ]
    },
    {
      "cell_type": "code",
      "metadata": {
        "colab": {
          "base_uri": "https://localhost:8080/",
          "height": 128
        },
        "id": "gy4q5oJ86qnb",
        "outputId": "08f789fd-cc0b-4b3d-895d-c0b2abd55ebd"
      },
      "source": [
        "#syntax error\n",
        "amt=10000\n",
        "if(amt>2999) \n",
        "    print(\"You are eligible to purchase Dsa Self Paced\") "
      ],
      "execution_count": null,
      "outputs": [
        {
          "output_type": "error",
          "ename": "SyntaxError",
          "evalue": "ignored",
          "traceback": [
            "\u001b[0;36m  File \u001b[0;32m\"<ipython-input-2-5d91e8d3d3e4>\"\u001b[0;36m, line \u001b[0;32m3\u001b[0m\n\u001b[0;31m    if(amt>2999)\u001b[0m\n\u001b[0m                 ^\u001b[0m\n\u001b[0;31mSyntaxError\u001b[0m\u001b[0;31m:\u001b[0m invalid syntax\n"
          ]
        }
      ]
    },
    {
      "cell_type": "code",
      "metadata": {
        "colab": {
          "base_uri": "https://localhost:8080/",
          "height": 212
        },
        "id": "9jhee3lB7MGI",
        "outputId": "6bfaecfc-305a-4325-b68c-2ba023c37dca"
      },
      "source": [
        "#zero division error\n",
        "marks=10000\n",
        "a = marks / 0\n",
        "print(a) "
      ],
      "execution_count": null,
      "outputs": [
        {
          "output_type": "error",
          "ename": "ZeroDivisionError",
          "evalue": "ignored",
          "traceback": [
            "\u001b[0;31m---------------------------------------------------------------------------\u001b[0m",
            "\u001b[0;31mZeroDivisionError\u001b[0m                         Traceback (most recent call last)",
            "\u001b[0;32m<ipython-input-3-b676a2f90318>\u001b[0m in \u001b[0;36m<module>\u001b[0;34m()\u001b[0m\n\u001b[1;32m      1\u001b[0m \u001b[0;31m#zero division error\u001b[0m\u001b[0;34m\u001b[0m\u001b[0;34m\u001b[0m\u001b[0;34m\u001b[0m\u001b[0m\n\u001b[1;32m      2\u001b[0m \u001b[0mmarks\u001b[0m\u001b[0;34m=\u001b[0m\u001b[0;36m10000\u001b[0m\u001b[0;34m\u001b[0m\u001b[0;34m\u001b[0m\u001b[0m\n\u001b[0;32m----> 3\u001b[0;31m \u001b[0ma\u001b[0m \u001b[0;34m=\u001b[0m \u001b[0mmarks\u001b[0m \u001b[0;34m/\u001b[0m \u001b[0;36m0\u001b[0m\u001b[0;34m\u001b[0m\u001b[0;34m\u001b[0m\u001b[0m\n\u001b[0m\u001b[1;32m      4\u001b[0m \u001b[0mprint\u001b[0m\u001b[0;34m(\u001b[0m\u001b[0ma\u001b[0m\u001b[0;34m)\u001b[0m\u001b[0;34m\u001b[0m\u001b[0;34m\u001b[0m\u001b[0m\n",
            "\u001b[0;31mZeroDivisionError\u001b[0m: division by zero"
          ]
        }
      ]
    },
    {
      "cell_type": "code",
      "metadata": {
        "colab": {
          "base_uri": "https://localhost:8080/",
          "height": 128
        },
        "id": "lKwqa9067i-b",
        "outputId": "e52a45a4-b0c0-4e50-b312-0b8be11d0c1b"
      },
      "source": [
        "#indentation error\n",
        "if(a<3): \n",
        "print(\"gfg\") "
      ],
      "execution_count": 10,
      "outputs": [
        {
          "output_type": "error",
          "ename": "IndentationError",
          "evalue": "ignored",
          "traceback": [
            "\u001b[0;36m  File \u001b[0;32m\"<ipython-input-10-e978e4fdfdab>\"\u001b[0;36m, line \u001b[0;32m3\u001b[0m\n\u001b[0;31m    print(\"gfg\")\u001b[0m\n\u001b[0m        ^\u001b[0m\n\u001b[0;31mIndentationError\u001b[0m\u001b[0;31m:\u001b[0m expected an indented block\n"
          ]
        }
      ]
    },
    {
      "cell_type": "markdown",
      "metadata": {
        "id": "Lf90MFYz8ZZ9"
      },
      "source": [
        "2.Design a simple calculator app with try and except for all use cases"
      ]
    },
    {
      "cell_type": "code",
      "metadata": {
        "id": "1HSdbSpS8gS-",
        "colab": {
          "base_uri": "https://localhost:8080/"
        },
        "outputId": "b05c398f-8edc-409a-dac6-d61d5722dcce"
      },
      "source": [
        "try:\n",
        "  # prompt user\n",
        "    num1 = float(input(\"Please Enter The first number: \"))\n",
        "    operator = input(\"Please choose the operator (+) for addition, (-) for subtraction, (*) for multiplication\"\n",
        "                     \"(/) for division , (%) for remainder: \")\n",
        "    num2 = float(input(\"Please Enter The second number: \"))\n",
        "    \n",
        "    if operator == '+':\n",
        "        result = num1 + num2\n",
        "        print(\"The result is: \", result)\n",
        "    elif operator == '-':\n",
        "        result = num1 - num2\n",
        "        print(\"The result is: \", result)\n",
        "    elif operator == '*':\n",
        "        result = num1 * num2\n",
        "        print(\"The result is: \", result)\n",
        "    elif operator == '/':\n",
        "        try:\n",
        "            if True:\n",
        "                result = num1 / num2\n",
        "                print(result)\n",
        "        except ZeroDivisionError as err:\n",
        "            print(err, \" oops! zero division occur \")\n",
        "    elif operator == '%':\n",
        "        if operator == '%':\n",
        "            result = num1 % num2\n",
        "            print(\"The result is: \", result)\n",
        "    else:\n",
        "        raise TypeError\n",
        "\n",
        "\n",
        "except ValueError:\n",
        "    print(\"wrong value, suggest integer or decimal\")\n",
        "finally:\n",
        "    print(\"All Done\")\n"
      ],
      "execution_count": 11,
      "outputs": [
        {
          "output_type": "stream",
          "text": [
            "Please Enter The first number: 3\n",
            "Please choose the operator (+) for addition, (-) for subtraction, (*) for multiplication(/) for division , (%) for remainder: +\n",
            "Please Enter The second number: 5\n",
            "The result is:  8.0\n",
            "All Done\n"
          ],
          "name": "stdout"
        }
      ]
    },
    {
      "cell_type": "markdown",
      "metadata": {
        "id": "8BP-bNGHThp1"
      },
      "source": [
        "3.print one message if the try block raises a NameError and another for other errors"
      ]
    },
    {
      "cell_type": "code",
      "metadata": {
        "colab": {
          "base_uri": "https://localhost:8080/"
        },
        "id": "WrIC2WlvTjw3",
        "outputId": "6925fa50-5f45-45fa-e1ba-2c058d86398e"
      },
      "source": [
        "def message(): \n",
        "    try: \n",
        "        text = \"hello\"\n",
        "        return helloforhello \n",
        "    except NameError: \n",
        "        return \"NameError occured. Some variable isn't defined.\"\n",
        "  \n",
        "print(message())"
      ],
      "execution_count": 12,
      "outputs": [
        {
          "output_type": "stream",
          "text": [
            "NameError occured. Some variable isn't defined.\n"
          ],
          "name": "stdout"
        }
      ]
    },
    {
      "cell_type": "markdown",
      "metadata": {
        "id": "iX5BFWBtVIvi"
      },
      "source": [
        "4.When try-except scenario is not required?\n",
        "\n",
        "ANS: some exception can be handled by python itself, such cases try-except scenario is not required"
      ]
    },
    {
      "cell_type": "markdown",
      "metadata": {
        "id": "LrHAOAQFZEdL"
      },
      "source": [
        "5.Try getting an input inside the try catch block"
      ]
    },
    {
      "cell_type": "code",
      "metadata": {
        "colab": {
          "base_uri": "https://localhost:8080/"
        },
        "id": "xntlpl6vZMVe",
        "outputId": "2a7fda9d-9a40-4cf2-f3a0-5321c8fb7ec6"
      },
      "source": [
        "try:\n",
        "       a=int(input(\"enter number: \"))\n",
        "       b=int(a)\n",
        "       print(b)\n",
        "except ValueError:\n",
        "       print(\"please enter integer\")"
      ],
      "execution_count": 13,
      "outputs": [
        {
          "output_type": "stream",
          "text": [
            "enter number: 8\n",
            "8\n"
          ],
          "name": "stdout"
        }
      ]
    }
  ]
}