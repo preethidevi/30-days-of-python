{
  "nbformat": 4,
  "nbformat_minor": 0,
  "metadata": {
    "colab": {
      "name": "day5",
      "provenance": []
    },
    "kernelspec": {
      "name": "python3",
      "display_name": "Python 3"
    }
  },
  "cells": [
    {
      "cell_type": "code",
      "metadata": {
        "colab": {
          "base_uri": "https://localhost:8080/"
        },
        "id": "sH_lK81k7sO3",
        "outputId": "70777074-d688-4b3c-91ca-269905034b96"
      },
      "source": [
        "def funct(a,b):\n",
        "  print(\"Addition of two numbers is : \",a+b)\n",
        "  print(\"Subtraction of two numbers is : \" ,a-b)\n",
        "  print(\"Multiplication of two numbers is : \",a*b)\n",
        "  print(\"Division of two numbers is : \",a/b)\n",
        "a=int(input(\"Enter number 1 : \"))\n",
        "b=int(input(\"Enter number 2 : \"))\n",
        "funct(a,b)"
      ],
      "execution_count": 2,
      "outputs": [
        {
          "output_type": "stream",
          "text": [
            "Enter number 1 : 4\n",
            "Enter number 2 : 2\n",
            "Addition of two numbers is :  6\n",
            "Subtraction of two numbers is :  2\n",
            "Multiplication of two numbers is :  8\n",
            "Division of two numbers is :  2.0\n"
          ],
          "name": "stdout"
        }
      ]
    },
    {
      "cell_type": "code",
      "metadata": {
        "colab": {
          "base_uri": "https://localhost:8080/"
        },
        "id": "GWyKu46z7_Nl",
        "outputId": "c27931a9-5f40-48e5-bb10-40e72819d6a6"
      },
      "source": [
        "def covid(name,temp=98):\n",
        "  print(\"Patient name : \",name)\n",
        "  print(\"Body temperature : \",temp)\n",
        "covid(\"Keerthu\",99)\n",
        "covid(\"Adiya\")"
      ],
      "execution_count": 3,
      "outputs": [
        {
          "output_type": "stream",
          "text": [
            "Patient name :  Keerthu\n",
            "Body temperature :  99\n",
            "Patient name :  Adiya\n",
            "Body temperature :  98\n"
          ],
          "name": "stdout"
        }
      ]
    }
  ]
}