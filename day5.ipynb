{
  "nbformat": 4,
  "nbformat_minor": 0,
  "metadata": {
    "colab": {
      "name": "day5",
      "provenance": []
    },
    "kernelspec": {
      "name": "python3",
      "display_name": "Python 3"
    }
  },
  "cells": [
    {
      "cell_type": "code",
      "metadata": {
        "colab": {
          "base_uri": "https://localhost:8080/"
        },
        "id": "4OKQ_gBL3IWN",
        "outputId": "9db96c48-1920-47a1-a9de-d470676f76f1"
      },
      "source": [
        "def funct(a,b):\n",
        "  print(\"Addition of two numbers is : \",a+b)\n",
        "  print(\"Subtraction of two numbers is : \" ,a-b)\n",
        "  print(\"Multiplication of two numbers is : \",a*b)\n",
        "  print(\"Division of two numbers is : \",a/b)\n",
        "a=int(input(\"Enter number 1 : \"))\n",
        "b=int(input(\"Enter number 2 : \"))\n",
        "funct(a,b)\n",
        "\n"
      ],
      "execution_count": 2,
      "outputs": [
        {
          "output_type": "stream",
          "text": [
            "Enter number 1 : 6\n",
            "Enter number 2 : 3\n",
            "Addition of two numbers is :  9\n",
            "Subtraction of two numbers is :  3\n",
            "Multiplication of two numbers is :  18\n",
            "Division of two numbers is :  2.0\n"
          ],
          "name": "stdout"
        }
      ]
    }
  ]
}