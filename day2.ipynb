{
  "nbformat": 4,
  "nbformat_minor": 0,
  "metadata": {
    "colab": {
      "name": "day2",
      "provenance": []
    },
    "kernelspec": {
      "name": "python3",
      "display_name": "Python 3"
    }
  },
  "cells": [
    {
      "cell_type": "code",
      "metadata": {
        "id": "GkV0bYLlGAH9"
      },
      "source": [
        ""
      ],
      "execution_count": 8,
      "outputs": []
    },
    {
      "cell_type": "markdown",
      "metadata": {
        "id": "w8TmHEN2GHae"
      },
      "source": [
        "1)Create three variables (a,b,c) to same value of any integer & do the following\n",
        "\n",
        "a) Divide a by 10\n",
        "\n",
        "b) Multiply b by 50\n",
        "\n",
        "c) Add c value by 60"
      ]
    },
    {
      "cell_type": "markdown",
      "metadata": {
        "id": "XSSlascIHbdh"
      },
      "source": [
        ""
      ]
    },
    {
      "cell_type": "code",
      "metadata": {
        "id": "53Y7oc9lGIUL"
      },
      "source": [
        "a = b = c = 10\n",
        "\n"
      ],
      "execution_count": 9,
      "outputs": []
    },
    {
      "cell_type": "code",
      "metadata": {
        "colab": {
          "base_uri": "https://localhost:8080/"
        },
        "id": "VcWszDggGNGN",
        "outputId": "f4859101-059a-4be9-e8e6-03927e3f88aa"
      },
      "source": [
        "print(a/10)"
      ],
      "execution_count": 10,
      "outputs": [
        {
          "output_type": "stream",
          "text": [
            "1.0\n"
          ],
          "name": "stdout"
        }
      ]
    },
    {
      "cell_type": "code",
      "metadata": {
        "colab": {
          "base_uri": "https://localhost:8080/"
        },
        "id": "oS3kKxMbHBA2",
        "outputId": "d192f125-7b19-467f-c35f-2a9f31b6adea"
      },
      "source": [
        "print(b*50)"
      ],
      "execution_count": 11,
      "outputs": [
        {
          "output_type": "stream",
          "text": [
            "500\n"
          ],
          "name": "stdout"
        }
      ]
    },
    {
      "cell_type": "code",
      "metadata": {
        "colab": {
          "base_uri": "https://localhost:8080/"
        },
        "id": "ZFbXdmyLHFia",
        "outputId": "ac5092e9-d44d-4d9c-a909-e2ae5b9d6b00"
      },
      "source": [
        "print(c+60)"
      ],
      "execution_count": 12,
      "outputs": [
        {
          "output_type": "stream",
          "text": [
            "70\n"
          ],
          "name": "stdout"
        }
      ]
    },
    {
      "cell_type": "markdown",
      "metadata": {
        "id": "WFxAvc1RHNLP"
      },
      "source": [
        "2)Create a String variable of 5 characters and replace the 3rd character with G"
      ]
    },
    {
      "cell_type": "code",
      "metadata": {
        "colab": {
          "base_uri": "https://localhost:8080/"
        },
        "id": "QI8kC8ogHOLl",
        "outputId": "29c924a6-14ba-4ada-9add-d8ea63d7f2ff"
      },
      "source": [
        "string1 = \"hello\"\n",
        "string2 = string1[:2] + \"G\" + string1[3:]\n",
        "print(string2)"
      ],
      "execution_count": 13,
      "outputs": [
        {
          "output_type": "stream",
          "text": [
            "heGlo\n"
          ],
          "name": "stdout"
        }
      ]
    },
    {
      "cell_type": "markdown",
      "metadata": {
        "id": "1i42cgy1HeI2"
      },
      "source": [
        "3)Create two values (a,b) of int,float data type & convert the vise versa, Hint : convert a from int to float datatype & b from float to int datatype\n",
        "\n"
      ]
    },
    {
      "cell_type": "code",
      "metadata": {
        "id": "NV_yLBimHfUH"
      },
      "source": [
        "a=10\n",
        "b=20.0"
      ],
      "execution_count": 14,
      "outputs": []
    },
    {
      "cell_type": "code",
      "metadata": {
        "colab": {
          "base_uri": "https://localhost:8080/"
        },
        "id": "H9iWZIJEHp55",
        "outputId": "49847fba-c943-4d1d-8717-1c4def83b092"
      },
      "source": [
        "print(float(a))"
      ],
      "execution_count": 15,
      "outputs": [
        {
          "output_type": "stream",
          "text": [
            "10.0\n"
          ],
          "name": "stdout"
        }
      ]
    },
    {
      "cell_type": "code",
      "metadata": {
        "colab": {
          "base_uri": "https://localhost:8080/"
        },
        "id": "HYaAtDQDHtrE",
        "outputId": "3d1f26e4-4263-4007-8db2-a00c71fbbcb9"
      },
      "source": [
        "print(int(b))"
      ],
      "execution_count": 16,
      "outputs": [
        {
          "output_type": "stream",
          "text": [
            "20\n"
          ],
          "name": "stdout"
        }
      ]
    }
  ]
}