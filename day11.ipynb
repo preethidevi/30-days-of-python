{
  "nbformat": 4,
  "nbformat_minor": 0,
  "metadata": {
    "colab": {
      "name": "day11",
      "provenance": []
    },
    "kernelspec": {
      "name": "python3",
      "display_name": "Python 3"
    }
  },
  "cells": [
    {
      "cell_type": "markdown",
      "metadata": {
        "id": "eo7J-Yl3s_Gi"
      },
      "source": [
        "1.Write a program using zip() function and list() function, create a merged list of tuples from the two lists given"
      ]
    },
    {
      "cell_type": "code",
      "metadata": {
        "colab": {
          "base_uri": "https://localhost:8080/"
        },
        "id": "yOfFmdths61w",
        "outputId": "5abac71c-5868-4a98-8ffa-edc19a6d3778"
      },
      "source": [
        "list1=[1,3,5,7,9]\n",
        "list2=[2,4,6,8,0]\n",
        "new_list=list(zip(list1,list2))\n",
        "print(\"Merged list=\",new_list)"
      ],
      "execution_count": 1,
      "outputs": [
        {
          "output_type": "stream",
          "text": [
            "Merged list= [(1, 2), (3, 4), (5, 6), (7, 8), (9, 0)]\n"
          ],
          "name": "stdout"
        }
      ]
    },
    {
      "cell_type": "markdown",
      "metadata": {
        "id": "Nsh7ru4ZtEXi"
      },
      "source": [
        "2.first create a range from 1-8.Then using zip,merge the given list and range together to create a new list of tuples"
      ]
    },
    {
      "cell_type": "code",
      "metadata": {
        "colab": {
          "base_uri": "https://localhost:8080/"
        },
        "id": "HxBIuCmutOkK",
        "outputId": "96b05811-9b34-4139-d4d1-ee4583435807"
      },
      "source": [
        "ran = list(range(1,9))\n",
        "lst = list(map(str,input(\"List : \").strip().split()))\n",
        "new_lst = list(zip(ran,lst))\n",
        "print(new_lst)"
      ],
      "execution_count": 2,
      "outputs": [
        {
          "output_type": "stream",
          "text": [
            "List : 2 4 6 8 0\n",
            "[(1, '2'), (2, '4'), (3, '6'), (4, '8'), (5, '0')]\n"
          ],
          "name": "stdout"
        }
      ]
    },
    {
      "cell_type": "markdown",
      "metadata": {
        "id": "8Cyz_W2StS49"
      },
      "source": [
        "3.using sorted() sort the list in ascending order"
      ]
    },
    {
      "cell_type": "code",
      "metadata": {
        "colab": {
          "base_uri": "https://localhost:8080/"
        },
        "id": "93ujMM0Etb7t",
        "outputId": "29b3cf88-19b7-4313-a8c4-3e834dda7a94"
      },
      "source": [
        "list=[3,8,9,4,34,1,0,74]\n",
        "print(\"Before sorting:\",list)\n",
        "new_list=sorted(list)\n",
        "print(\"After sorting:\",new_list)"
      ],
      "execution_count": 3,
      "outputs": [
        {
          "output_type": "stream",
          "text": [
            "Before sorting: [3, 8, 9, 4, 34, 1, 0, 74]\n",
            "After sorting: [0, 1, 3, 4, 8, 9, 34, 74]\n"
          ],
          "name": "stdout"
        }
      ]
    },
    {
      "cell_type": "markdown",
      "metadata": {
        "id": "w75vGqKKtfrS"
      },
      "source": [
        "4.write a program using filter function,filter the even numbers so that only odd numbers are passed to the new list"
      ]
    },
    {
      "cell_type": "code",
      "metadata": {
        "id": "xmom1RDGuXhz"
      },
      "source": [
        "l = list(map(int,input(\"List : \").strip().split()))\n",
        "even_lst = list(filter(lambda x: x%2!=0,l))\n",
        "print(\"List with only even numbers : \",even_lst)"
      ],
      "execution_count": null,
      "outputs": []
    },
    {
      "cell_type": "markdown",
      "metadata": {
        "id": "TYlAMPTluua4"
      },
      "source": [
        "List : 1 2 3 4 5 6 7 8 9     \n",
        "List with only even numbers :  [1, 3, 5, 7, 9]"
      ]
    }
  ]
}