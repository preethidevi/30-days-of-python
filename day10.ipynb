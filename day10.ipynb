{
  "nbformat": 4,
  "nbformat_minor": 0,
  "metadata": {
    "colab": {
      "name": "day10",
      "provenance": []
    },
    "kernelspec": {
      "name": "python3",
      "display_name": "Python 3"
    }
  },
  "cells": [
    {
      "cell_type": "markdown",
      "metadata": {
        "id": "SDhOlTNRd7T_"
      },
      "source": [
        "1.Write a Python program for all the cases which can check a string contains only a certain set of characters (in this case a-z, A-Z and 0-9)."
      ]
    },
    {
      "cell_type": "code",
      "metadata": {
        "colab": {
          "base_uri": "https://localhost:8080/"
        },
        "id": "oSL_g1tkfxSv",
        "outputId": "ef3c8e02-65cf-479c-a151-7b8da748b612"
      },
      "source": [
        "import re\n",
        "def is_allowed_specific_char(string):\n",
        "    char = re.compile(r'[^a-zA-Z0-9.]')\n",
        "    string = char.search(string)\n",
        "    return not bool(string)\n",
        "\n",
        "print(is_allowed_specific_char(\"ABCyjd1278\")) \n",
        "print(is_allowed_specific_char(\"*&%\"))\n"
      ],
      "execution_count": 21,
      "outputs": [
        {
          "output_type": "stream",
          "text": [
            "True\n",
            "False\n"
          ],
          "name": "stdout"
        }
      ]
    },
    {
      "cell_type": "markdown",
      "metadata": {
        "id": "_xvM1119gFKO"
      },
      "source": [
        "2. Write a Python program that matches a word containing 'ab'"
      ]
    },
    {
      "cell_type": "code",
      "metadata": {
        "colab": {
          "base_uri": "https://localhost:8080/"
        },
        "id": "CQjJ8ji_gIns",
        "outputId": "c1cf8a53-e051-4ccf-e15c-2229b938c31e"
      },
      "source": [
        "import re\n",
        "def text_match(text):\n",
        "        patterns = 'ab'\n",
        "        if re.search(patterns,  text):\n",
        "                return 'match found'\n",
        "        else:\n",
        "                return('match not found')\n",
        "\n",
        "print(text_match(\"acc\"))\n",
        "print(text_match(\"ab\"))\n"
      ],
      "execution_count": 22,
      "outputs": [
        {
          "output_type": "stream",
          "text": [
            "match not found\n",
            "match found\n"
          ],
          "name": "stdout"
        }
      ]
    },
    {
      "cell_type": "markdown",
      "metadata": {
        "id": "FbSq9YGmhFI4"
      },
      "source": [
        "3.Write a Python program to check for a number at the end of a string"
      ]
    },
    {
      "cell_type": "code",
      "metadata": {
        "colab": {
          "base_uri": "https://localhost:8080/"
        },
        "id": "YQfpacmDhJ5b",
        "outputId": "00f39986-3d67-4b61-83d8-913b3b097bdf"
      },
      "source": [
        "import re\n",
        "def end_num(string):\n",
        "    text = re.compile(r\".*[0-9]$\")\n",
        "    if text.match(string):\n",
        "        return True\n",
        "    else:\n",
        "        return False\n",
        "\n",
        "print(end_num('python03'))\n",
        "print(end_num('abcdef'))"
      ],
      "execution_count": 23,
      "outputs": [
        {
          "output_type": "stream",
          "text": [
            "True\n",
            "False\n"
          ],
          "name": "stdout"
        }
      ]
    },
    {
      "cell_type": "markdown",
      "metadata": {
        "id": "vEg6ezSxhpYU"
      },
      "source": [
        "4.Write a Python program to search the numbers (0-9) of length between 1 to 3 in a given string"
      ]
    },
    {
      "cell_type": "code",
      "metadata": {
        "colab": {
          "base_uri": "https://localhost:8080/"
        },
        "id": "grQmW0bahsRO",
        "outputId": "1d64af73-8531-4e61-d754-14f63ee8ca5f"
      },
      "source": [
        "import re\n",
        "results = re.finditer(r\"([0-9]{1,3})\", \"Exercises number 1,15 and 34 are important\")\n",
        "print(\"Number of length 1 to 3\")\n",
        "for n in results:\n",
        "     print(n.group(0))\n"
      ],
      "execution_count": 24,
      "outputs": [
        {
          "output_type": "stream",
          "text": [
            "Number of length 1 to 3\n",
            "1\n",
            "15\n",
            "34\n"
          ],
          "name": "stdout"
        }
      ]
    },
    {
      "cell_type": "markdown",
      "metadata": {
        "id": "r7y_NsHYikKR"
      },
      "source": [
        "5.Write a Python program to match a string that contains only upper case letters"
      ]
    },
    {
      "cell_type": "code",
      "metadata": {
        "colab": {
          "base_uri": "https://localhost:8080/"
        },
        "id": "RlQLxS0hioV7",
        "outputId": "5b8510b5-e2cf-4162-c420-9d0d02074450"
      },
      "source": [
        "import re\n",
        "def text_match(text):\n",
        "        patterns = '^[A-Z]*$'\n",
        "        if re.search(patterns,  text):\n",
        "                return ('match found')\n",
        "        else:\n",
        "                return('match not found')\n",
        "\n",
        "print(text_match(\"strings\"))\n",
        "print(text_match(\"UPPERCASE\"))"
      ],
      "execution_count": 26,
      "outputs": [
        {
          "output_type": "stream",
          "text": [
            "match not found\n",
            "match found\n"
          ],
          "name": "stdout"
        }
      ]
    }
  ]
}