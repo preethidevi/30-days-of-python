{
  "nbformat": 4,
  "nbformat_minor": 0,
  "metadata": {
    "colab": {
      "name": "day 9",
      "provenance": []
    },
    "kernelspec": {
      "name": "python3",
      "display_name": "Python 3"
    }
  },
  "cells": [
    {
      "cell_type": "markdown",
      "metadata": {
        "id": "NsaGt4dBY1lk"
      },
      "source": [
        "1.create a lambda function that multiplies argument x with argument y"
      ]
    },
    {
      "cell_type": "code",
      "metadata": {
        "colab": {
          "base_uri": "https://localhost:8080/"
        },
        "id": "_iPkAbdjY8MH",
        "outputId": "0d69b9df-4926-4ced-979b-c526ed8ed34a"
      },
      "source": [
        "r=lambda x,y:x*y\n",
        "print(r(2,3))"
      ],
      "execution_count": 2,
      "outputs": [
        {
          "output_type": "stream",
          "text": [
            "6\n"
          ],
          "name": "stdout"
        }
      ]
    },
    {
      "cell_type": "markdown",
      "metadata": {
        "id": "QsRHhG8zY_sF"
      },
      "source": [
        "2.Write a Python program to create Fibonacci series to n using Lambda"
      ]
    },
    {
      "cell_type": "code",
      "metadata": {
        "colab": {
          "base_uri": "https://localhost:8080/"
        },
        "id": "hG_45894ZDaO",
        "outputId": "8893a966-e88c-4b03-e4ff-89f0014cbb2a"
      },
      "source": [
        "from functools import reduce\n",
        "fib_series = lambda n: reduce(lambda x, _: x+[x[-1]+x[-2]], range(n-2), [0, 1])\n",
        "print(fib_series(10))"
      ],
      "execution_count": 3,
      "outputs": [
        {
          "output_type": "stream",
          "text": [
            "[0, 1, 1, 2, 3, 5, 8, 13, 21, 34]\n"
          ],
          "name": "stdout"
        }
      ]
    },
    {
      "cell_type": "markdown",
      "metadata": {
        "id": "0bLUoil5ZJ12"
      },
      "source": [
        "3.Write a Python program that multiply each number of given list with a given number"
      ]
    },
    {
      "cell_type": "code",
      "metadata": {
        "colab": {
          "base_uri": "https://localhost:8080/"
        },
        "id": "LYe-YNTbZYjP",
        "outputId": "e8bed4f7-1306-4ca0-b468-14d2a2dfc820"
      },
      "source": [
        "nums = [2, 4, 6, 9 , 11]\n",
        "n = 2\n",
        "print(\"Original list: \", nums)\n",
        "print(\"Given number: \", n)\n",
        "filtered_numbers=list(map(lambda number:number*n,nums))\n",
        "print(\"Result:\")\n",
        "print(' '.join(map(str,filtered_numbers)))"
      ],
      "execution_count": 4,
      "outputs": [
        {
          "output_type": "stream",
          "text": [
            "Original list:  [2, 4, 6, 9, 11]\n",
            "Given number:  2\n",
            "Result:\n",
            "4 8 12 18 22\n"
          ],
          "name": "stdout"
        }
      ]
    },
    {
      "cell_type": "markdown",
      "metadata": {
        "id": "pr0KljO2ZdSv"
      },
      "source": [
        "4.Write a Python program to find numbers divisible by 9 from a list of numbers"
      ]
    },
    {
      "cell_type": "code",
      "metadata": {
        "colab": {
          "base_uri": "https://localhost:8080/"
        },
        "id": "Rw7-fruAZg_I",
        "outputId": "0911f0bd-ad54-4c0c-c425-8c5a7d2c0ec6"
      },
      "source": [
        "nums = [19, 65, 57, 39, 152, 639, 121, 44, 90, 190]\n",
        "print(\"Orginal list:\")\n",
        "print(nums) \n",
        "result = list(filter(lambda x: (x % 9 == 0 ), nums)) \n",
        "print(\"\\nNumbers of the above list divisible by nine:\")\n",
        "print(result)"
      ],
      "execution_count": 5,
      "outputs": [
        {
          "output_type": "stream",
          "text": [
            "Orginal list:\n",
            "[19, 65, 57, 39, 152, 639, 121, 44, 90, 190]\n",
            "\n",
            "Numbers of the above list divisible by nine:\n",
            "[639, 90]\n"
          ],
          "name": "stdout"
        }
      ]
    },
    {
      "cell_type": "markdown",
      "metadata": {
        "id": "jKPBsMS9ZnZh"
      },
      "source": [
        "5. Write a Python program to count the even numbers in a given list of integers\n"
      ]
    },
    {
      "cell_type": "code",
      "metadata": {
        "colab": {
          "base_uri": "https://localhost:8080/"
        },
        "id": "v5qEHDWRZrd8",
        "outputId": "08732c50-2719-43c6-b8b7-47294677fd1c"
      },
      "source": [
        "l = [1,2,3,4,5,6,7,8,9]\n",
        "even = list(filter(lambda x:(x%2 == 0),l))\n",
        "print(\"The count of even numbers in a given list : \",len(even))"
      ],
      "execution_count": 6,
      "outputs": [
        {
          "output_type": "stream",
          "text": [
            "The count of even numbers in a given list :  4\n"
          ],
          "name": "stdout"
        }
      ]
    }
  ]
}