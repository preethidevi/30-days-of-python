{
  "nbformat": 4,
  "nbformat_minor": 0,
  "metadata": {
    "colab": {
      "name": "day1",
      "provenance": []
    },
    "kernelspec": {
      "name": "python3",
      "display_name": "Python 3"
    }
  },
  "cells": [
    {
      "cell_type": "markdown",
      "metadata": {
        "id": "767gqiwtIeqJ"
      },
      "source": [
        "Creating a string and slice from 2nd value to last value"
      ]
    },
    {
      "cell_type": "code",
      "metadata": {
        "colab": {
          "base_uri": "https://localhost:8080/"
        },
        "id": "318LUYtSIf7t",
        "outputId": "2d93e285-1742-4cc5-b70f-01650317116a"
      },
      "source": [
        "string1 = \"preethi\"\n",
        "print(string1[1:])"
      ],
      "execution_count": 1,
      "outputs": [
        {
          "output_type": "stream",
          "text": [
            "reethi\n"
          ],
          "name": "stdout"
        }
      ]
    }
  ]
}