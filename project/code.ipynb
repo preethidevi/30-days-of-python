{
  "nbformat": 4,
  "nbformat_minor": 0,
  "metadata": {
    "colab": {
      "name": "code",
      "provenance": []
    },
    "kernelspec": {
      "name": "python3",
      "display_name": "Python 3"
    }
  },
  "cells": [
    {
      "cell_type": "code",
      "metadata": {
        "colab": {
          "base_uri": "https://localhost:8080/"
        },
        "id": "OcenI_mtC6-a",
        "outputId": "540a177b-b6e5-4a63-b736-04279508b85b"
      },
      "source": [
        "from PIL import Image, ImageDraw, ImageFont\r\n",
        "import pandas as pd\r\n",
        "import os\r\n",
        "\r\n",
        "df = pd.read_excel(\"Book.xlsx\")\r\n",
        "\r\n",
        "for index,j in df.iterrows():\r\n",
        "    img=Image.open('template.jpeg')\r\n",
        "    draw=ImageDraw.Draw(img)\r\n",
        "    draw.text(xy=(370, 350),text='{}'.format(j['Name']),fill=(0, 137, 209),font=ImageFont.truetype('arial.ttf',100))\r\n",
        "    draw.text(xy=(290, 580),text='{}'.format(j['Project name']),fill=(0, 0, 102),font=ImageFont.truetype('arial.ttf',75))\r\n",
        "    draw.text(xy=(140, 740),text='{}'.format(j['Mentor name']),fill=(102, 0, 51),font=ImageFont.truetype('arial.ttf',30))\r\n",
        "    draw.text(xy=(810, 740),text='{}'.format(j['Project manager']),fill=(102, 0, 51),font=ImageFont.truetype('arial.ttf',30))\r\n",
        "    draw.text(xy=(650, 870),text='{}'.format(j['Certificate number']),fill=(0, 137, 209),font=ImageFont.truetype('arial.ttf',25))\r\n",
        "    img.save('Certificates\\{}.jpg'.format(j['Name']))\r\n",
        "print(\"success\")"
      ],
      "execution_count": 1,
      "outputs": [
        {
          "output_type": "stream",
          "text": [
            "success\n"
          ],
          "name": "stdout"
        }
      ]
    }
  ]
}