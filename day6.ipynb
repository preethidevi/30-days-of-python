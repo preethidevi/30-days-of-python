{
  "nbformat": 4,
  "nbformat_minor": 0,
  "metadata": {
    "colab": {
      "name": "day6",
      "provenance": []
    },
    "kernelspec": {
      "name": "python3",
      "display_name": "Python 3"
    }
  },
  "cells": [
    {
      "cell_type": "code",
      "metadata": {
        "id": "URObI8LxVT1W"
      },
      "source": [
        ""
      ],
      "execution_count": null,
      "outputs": []
    },
    {
      "cell_type": "markdown",
      "metadata": {
        "id": "ItuFrAYRVYPM"
      },
      "source": [
        "1. Write a program to loop through a list of numbers and add +2 to every value to elements in list"
      ]
    },
    {
      "cell_type": "code",
      "metadata": {
        "colab": {
          "base_uri": "https://localhost:8080/"
        },
        "id": "s9iGQLaPVgIn",
        "outputId": "21e8963a-e9c0-4db3-9602-680e9a954017"
      },
      "source": [
        "list = []\n",
        "n = int(input(\"Enter the number of list elements : \"))\n",
        "print(\"Enter list elements : \")\n",
        "for i in range (0,n):\n",
        "  ele = int(input())\n",
        "  list.append(ele)\n",
        "print(\"List elements : \",list)\n",
        "res = [ x+2 for x in li3st ]\n",
        "print(\"List after adding 2 :\",res)"
      ],
      "execution_count": 1,
      "outputs": [
        {
          "output_type": "stream",
          "text": [
            "Enter the number of list elements : 5\n",
            "Enter list elements : \n",
            "2\n",
            "3\n",
            "4\n",
            "6\n",
            "5\n",
            "List elements :  [2, 3, 4, 6, 5]\n",
            "List after adding 2 : [4, 5, 6, 8, 7]\n"
          ],
          "name": "stdout"
        }
      ]
    },
    {
      "cell_type": "markdown",
      "metadata": {
        "id": "87zQf2F3V5q9"
      },
      "source": [
        "2.Write a program to get the below pattern\n",
        "\n",
        "54321\n",
        "\n",
        "4321\n",
        "\n",
        "321\n",
        "\n",
        "21\n",
        "\n",
        "1\n",
        "\n"
      ]
    },
    {
      "cell_type": "code",
      "metadata": {
        "colab": {
          "base_uri": "https://localhost:8080/"
        },
        "id": "9wr69D0eV8P2",
        "outputId": "b41863f8-d683-4a74-ade3-8b85cc5adf9e"
      },
      "source": [
        "n = 5\n",
        "for i in range(n,0,-1):\n",
        "  for j in range(i,0,-1):\n",
        "    print(j,end=\"\")\n",
        "  print()"
      ],
      "execution_count": 2,
      "outputs": [
        {
          "output_type": "stream",
          "text": [
            "54321\n",
            "4321\n",
            "321\n",
            "21\n",
            "1\n"
          ],
          "name": "stdout"
        }
      ]
    },
    {
      "cell_type": "markdown",
      "metadata": {
        "id": "aehBK6iWWH9l"
      },
      "source": [
        "3. Python Program to Print the Fibonacci sequence"
      ]
    },
    {
      "cell_type": "code",
      "metadata": {
        "colab": {
          "base_uri": "https://localhost:8080/"
        },
        "id": "wGGPI1qzWKyn",
        "outputId": "db3c0ed3-c86f-4b7d-f38f-3f1e1446081a"
      },
      "source": [
        "n=int(input(\"Enter the length of sequence : \"))\n",
        "a=0\n",
        "b=1\n",
        "print(\"Fibonacci Sequence : \")\n",
        "while(a<n-1):\n",
        "  print(a)\n",
        "  print(b)\n",
        "  a=a+b\n",
        "  b=a+b"
      ],
      "execution_count": 3,
      "outputs": [
        {
          "output_type": "stream",
          "text": [
            "Enter the length of sequence : 5\n",
            "Fibonacci Sequence : \n",
            "0\n",
            "1\n",
            "1\n",
            "2\n",
            "3\n",
            "5\n"
          ],
          "name": "stdout"
        }
      ]
    },
    {
      "cell_type": "markdown",
      "metadata": {
        "id": "zrbBFtWCWZSs"
      },
      "source": [
        "4. Explain Armstrong number and write a code with a function\n",
        "\n",
        "A positive integer is called an Armstrong number (of order n)\n",
        "\n",
        "if abcd... = a^n + b^n + c^n + d^n ...\n",
        "\n",
        "153 = 111 + 555 + 333\n",
        "\n"
      ]
    },
    {
      "cell_type": "code",
      "metadata": {
        "colab": {
          "base_uri": "https://localhost:8080/"
        },
        "id": "hQaUK0ScWfC4",
        "outputId": "d28a80dd-e1da-438e-decd-c326672818d4"
      },
      "source": [
        "num = int(input(\"Enter a number: \"))  \n",
        "sum = 0  \n",
        "temp = num  \n",
        "  \n",
        "while temp > 0:  \n",
        "   digit = temp % 10  \n",
        "   sum = sum +(digit ** 3)  \n",
        "   temp //= 10  \n",
        "  \n",
        "if num == sum:  \n",
        "   print(num,\"is an Armstrong number\")  \n",
        "else:  \n",
        "   print(num,\"is not an Armstrong number\")"
      ],
      "execution_count": 4,
      "outputs": [
        {
          "output_type": "stream",
          "text": [
            "Enter a number: 643\n",
            "643 is not an Armstrong number\n"
          ],
          "name": "stdout"
        }
      ]
    },
    {
      "cell_type": "markdown",
      "metadata": {
        "id": "U3FK0RpyWvz5"
      },
      "source": [
        "5. Write a program to print the multiplication table of 9"
      ]
    },
    {
      "cell_type": "code",
      "metadata": {
        "colab": {
          "base_uri": "https://localhost:8080/"
        },
        "id": "vik6hKRDW0iO",
        "outputId": "c42a3298-f538-4134-f7e8-1ed897490f44"
      },
      "source": [
        "n = int(input(\"Enter number : \"))\n",
        "for i in range(1,n+1):\n",
        "  print(\" 9 x \" + str(i) + \" = \",i*9)"
      ],
      "execution_count": 5,
      "outputs": [
        {
          "output_type": "stream",
          "text": [
            "Enter number : 5\n",
            " 9 x 1 =  9\n",
            " 9 x 2 =  18\n",
            " 9 x 3 =  27\n",
            " 9 x 4 =  36\n",
            " 9 x 5 =  45\n"
          ],
          "name": "stdout"
        }
      ]
    },
    {
      "cell_type": "markdown",
      "metadata": {
        "id": "v5Z29owpW_MQ"
      },
      "source": [
        "6. Check if a number is negative or positive"
      ]
    },
    {
      "cell_type": "code",
      "metadata": {
        "colab": {
          "base_uri": "https://localhost:8080/"
        },
        "id": "9ing7zCwXD9K",
        "outputId": "7ac5bb9d-effa-4864-c177-7c57b2670d6a"
      },
      "source": [
        "n = int(input(\"Enter a number : \"))\n",
        "if (n>=0):\n",
        "  print(\"The number is positive\")\n",
        "else:\n",
        "  print(\"The number is negative\")"
      ],
      "execution_count": 6,
      "outputs": [
        {
          "output_type": "stream",
          "text": [
            "Enter a number : 26\n",
            "The number is positive\n"
          ],
          "name": "stdout"
        }
      ]
    },
    {
      "cell_type": "markdown",
      "metadata": {
        "id": "hZVYYjGVXO9T"
      },
      "source": [
        "7. Write a program to convert the number of days to ages"
      ]
    },
    {
      "cell_type": "code",
      "metadata": {
        "colab": {
          "base_uri": "https://localhost:8080/"
        },
        "id": "0PjdPASGXTyg",
        "outputId": "c99ec91f-c25d-4ff3-b2f7-bec9a698c00e"
      },
      "source": [
        "n = int(input(\"enter the number of days : \"))\n",
        "age = n//365\n",
        "print(\"Age is \",age)\n"
      ],
      "execution_count": 7,
      "outputs": [
        {
          "output_type": "stream",
          "text": [
            "enter the number of days : 7643\n",
            "Age is  20\n"
          ],
          "name": "stdout"
        }
      ]
    },
    {
      "cell_type": "markdown",
      "metadata": {
        "id": "avqg_TiGXh9i"
      },
      "source": [
        "8. Solve Trigonometry problem using math function write a program to solve using math function\n"
      ]
    },
    {
      "cell_type": "code",
      "metadata": {
        "colab": {
          "base_uri": "https://localhost:8080/"
        },
        "id": "REZ4GbuYXqxn",
        "outputId": "3603c7ec-a278-4e61-e443-9f2c7170364a"
      },
      "source": [
        "import math  \n",
        "a = math.pi/6\n",
        "b = 3\n",
        "c = 4\n",
        "print (\"The Sine of pi/6 : \",math.sin(a)) \n",
        "print (\"The cosine of pi/6 : \",math.cos(a)) \n",
        "print (\"The tangent of pi/6 : \",math.tan(a))\n",
        "print (\"The hypotenuse of b and c\",math.hypot(b,c)) \n",
        "print (\"The degree of a : \",math.degrees(a))\n",
        "print (\"The radians value from degree value b\",math.radians(b))"
      ],
      "execution_count": 8,
      "outputs": [
        {
          "output_type": "stream",
          "text": [
            "The Sine of pi/6 :  0.49999999999999994\n",
            "The cosine of pi/6 :  0.8660254037844387\n",
            "The tangent of pi/6 :  0.5773502691896257\n",
            "The hypotenuse of b and c 5.0\n",
            "The degree of a :  29.999999999999996\n",
            "The radians value from degree value b 0.05235987755982989\n"
          ],
          "name": "stdout"
        }
      ]
    },
    {
      "cell_type": "markdown",
      "metadata": {
        "id": "ZeDJYLu2XzVf"
      },
      "source": [
        "9. Create a calculator only on a code level by using if condition (Basic arithmetic calculation)"
      ]
    },
    {
      "cell_type": "code",
      "metadata": {
        "colab": {
          "base_uri": "https://localhost:8080/"
        },
        "id": "HKzjJVg8X6GT",
        "outputId": "4c255bd8-638a-4b59-c419-1f5a6ab4fc0a"
      },
      "source": [
        "print(\"Basic Calculator\")\n",
        "print(\"Enter the operation you want to perform : 1.addition 2.subtraction 3.multiplication 4.division\")\n",
        "option = int(input())\n",
        "a = int(input(\"Enter the first number : \"))\n",
        "b = int(input(\"Enter the second number : \"))\n",
        "if (option==1):\n",
        "  print(\"Addition of \" + str(a) + \" and \" + str(b) + \" is : \",a+b)\n",
        "elif (option==2):\n",
        "  print(\"Subtraction of \" + str(a) + \" and \" + str(b) + \" is : \",a-b)\n",
        "elif (option==3):\n",
        "  print(\"multiplication of \" + str(a) + \" and \" + str(b) + \" is : \",a*b)\n",
        "elif (option==4):\n",
        "  print(\"Division of \" + str(a) + \" and \" + str(b) + \" is : \",a/b)"
      ],
      "execution_count": 9,
      "outputs": [
        {
          "output_type": "stream",
          "text": [
            "Basic Calculator\n",
            "Enter the operation you want to perform : 1.addition 2.subtraction 3.multiplication 4.division\n",
            "1\n",
            "Enter the first number : 3\n",
            "Enter the second number : 5\n",
            "Addition of 3 and 5 is :  8\n"
          ],
          "name": "stdout"
        }
      ]
    }
  ]
}